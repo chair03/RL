{
 "cells": [
  {
   "cell_type": "code",
   "execution_count": 2,
   "id": "640fbe6e",
   "metadata": {},
   "outputs": [],
   "source": [
    "import gym\n",
    "import numpy as np\n",
    "import matplotlib.pyplot as plt\n",
    "\n",
    "\n",
    "env = gym.make('FrozenLake-v1')\n",
    "env.seed = 42\n",
    "num_games = 1000\n",
    "env.reset()\n",
    "win_pers = []\n",
    "lookback_window = []"
   ]
  },
  {
   "cell_type": "code",
   "execution_count": 16,
   "id": "1de6a9a7",
   "metadata": {},
   "outputs": [],
   "source": [
    "def add_to_lookback(arr,reward):\n",
    "    n = len(arr)\n",
    "    \n",
    "    if n >= 10:\n",
    "        diff = n - 10\n",
    "        arr = arr[diff+1:]\n",
    "    \n",
    "    arr.append(reward)\n",
    "    return arr\n",
    "        "
   ]
  },
  {
   "cell_type": "code",
   "execution_count": 17,
   "id": "3dd4bf69",
   "metadata": {},
   "outputs": [
    {
     "data": {
      "text/plain": [
       "0.4"
      ]
     },
     "execution_count": 17,
     "metadata": {},
     "output_type": "execute_result"
    }
   ],
   "source": [
    "2/5"
   ]
  },
  {
   "cell_type": "code",
   "execution_count": 24,
   "id": "1ec6f9c1",
   "metadata": {},
   "outputs": [],
   "source": [
    "\n",
    "for _ in range(num_games):\n",
    "    env.reset()\n",
    "    done = False\n",
    "    while not done:\n",
    "        observation, reward, done, info = env.step(env.action_space.sample())\n",
    "        if done:\n",
    "            lookback_window = add_to_lookback(lookback_window,reward) \n",
    "            win_pers.append(sum(lookback_window)/len(lookback_window))\n",
    "    "
   ]
  },
  {
   "cell_type": "code",
   "execution_count": 27,
   "id": "6b2a65de",
   "metadata": {},
   "outputs": [
    {
     "data": {
      "text/plain": [
       "[<matplotlib.lines.Line2D at 0x2eb57a32940>]"
      ]
     },
     "execution_count": 27,
     "metadata": {},
     "output_type": "execute_result"
    },
    {
     "data": {
      "image/png": "[encoded data removed]",
      "text/plain": [
       "<Figure size 432x288 with 1 Axes>"
      ]
     },
     "metadata": {
      "needs_background": "light"
     },
     "output_type": "display_data"
    }
   ],
   "source": [
    "plt.plot(win_pers)"
   ]
  },
  {
   "cell_type": "code",
   "execution_count": null,
   "id": "fdb75bc2",
   "metadata": {},
   "outputs": [],
   "source": []
  }
 ],
 "metadata": {
  "kernelspec": {
   "display_name": "Python 3 (ipykernel)",
   "language": "python",
   "name": "python3"
  },
  "language_info": {
   "codemirror_mode": {
    "name": "ipython",
    "version": 3
   },
   "file_extension": ".py",
   "mimetype": "text/x-python",
   "name": "python",
   "nbconvert_exporter": "python",
   "pygments_lexer": "ipython3",
   "version": "3.8.8"
  }
 },
 "nbformat": 4,
 "nbformat_minor": 5
}
