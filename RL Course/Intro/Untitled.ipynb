{
 "cells": [
  {
   "cell_type": "code",
   "execution_count": 1,
   "id": "4176e85a",
   "metadata": {},
   "outputs": [],
   "source": [
    "import gym\n",
    "import numpy as np\n",
    "import matplotlib.pyplot as plt"
   ]
  },
  {
   "cell_type": "code",
   "execution_count": 2,
   "id": "d9d1b11a",
   "metadata": {},
   "outputs": [],
   "source": [
    "env = gym.make('FrozenLake-v1')\n",
    "env.seed = 42\n",
    "num_games = 1000\n",
    "env.reset()\n",
    "win_pers = []\n",
    "lookback_window = []"
   ]
  },
  {
   "cell_type": "code",
   "execution_count": null,
   "id": "780df761",
   "metadata": {},
   "outputs": [],
   "source": [
    "\"4x4\":[\n",
    "    \"SFFF\",\n",
    "    \"FHFH\",\n",
    "    \"FFFH\",\n",
    "    \"HFFG\"\n",
    "    ]\n"
   ]
  },
  {
   "cell_type": "code",
   "execution_count": 3,
   "id": "55fae7fe",
   "metadata": {},
   "outputs": [
    {
     "data": {
      "text/plain": [
       "Discrete(4)"
      ]
     },
     "execution_count": 3,
     "metadata": {},
     "output_type": "execute_result"
    }
   ],
   "source": [
    "env.action_space"
   ]
  },
  {
   "cell_type": "code",
   "execution_count": 4,
   "id": "c82e8404",
   "metadata": {},
   "outputs": [
    {
     "data": {
      "text/plain": [
       "Discrete(16)"
      ]
     },
     "execution_count": 4,
     "metadata": {},
     "output_type": "execute_result"
    }
   ],
   "source": [
    "env.observation_space"
   ]
  },
  {
   "cell_type": "code",
   "execution_count": 14,
   "id": "b9e05624",
   "metadata": {},
   "outputs": [],
   "source": [
    "policy = {0:'Down',1:'Right',2:'Down',3:'Left',4:'Down',6:'Down',8:'Right',9:'Down',10:'Down',13:'Right',14:'Right'}\n",
    "action_encoding = {'Left':0,'Down':1,'Right':2,'Up':3}"
   ]
  },
  {
   "cell_type": "code",
   "execution_count": 9,
   "id": "e9bfa61e",
   "metadata": {},
   "outputs": [
    {
     "data": {
      "text/plain": [
       "0"
      ]
     },
     "execution_count": 9,
     "metadata": {},
     "output_type": "execute_result"
    }
   ],
   "source": [
    "env.reset()"
   ]
  },
  {
   "cell_type": "code",
   "execution_count": 17,
   "id": "f1c1639c",
   "metadata": {},
   "outputs": [],
   "source": [
    "def add_to_lookback(lookback_window,reward,max_size_lookback = 10):\n",
    "    n = len(lookback_window)\n",
    "    if n >= max_size_lookback:\n",
    "        excess = n - max_size_lookback\n",
    "        lookback_window = lookback_window[excess+1:]\n",
    "    lookback_window.append(reward)\n",
    "    return lookback_window\n",
    "\n",
    "for _ in range(num_games):\n",
    "    obvs = env.reset()\n",
    "    done = False\n",
    "    while not done:\n",
    "        observation, reward, done, info = env.step(action_encoding[policy[obvs]])\n",
    "        if done:\n",
    "            lookback_window = add_to_lookback(lookback_window,reward) \n",
    "            win_pers.append(sum(lookback_window)/len(lookback_window))"
   ]
  },
  {
   "cell_type": "code",
   "execution_count": 23,
   "id": "cfead58a",
   "metadata": {},
   "outputs": [
    {
     "data": {
      "text/plain": [
       "16"
      ]
     },
     "execution_count": 23,
     "metadata": {},
     "output_type": "execute_result"
    }
   ],
   "source": [
    "env.action_space."
   ]
  },
  {
   "cell_type": "code",
   "execution_count": 18,
   "id": "6dda3d81",
   "metadata": {},
   "outputs": [
    {
     "data": {
      "text/plain": [
       "[<matplotlib.lines.Line2D at 0x25c2b356f70>]"
      ]
     },
     "execution_count": 18,
     "metadata": {},
     "output_type": "execute_result"
    },
    {
     "data": {
      "image/png": "[encoded data removed]",
      "text/plain": [
       "<Figure size 432x288 with 1 Axes>"
      ]
     },
     "metadata": {
      "needs_background": "light"
     },
     "output_type": "display_data"
    }
   ],
   "source": [
    "plt.plot(win_pers)"
   ]
  },
  {
   "cell_type": "code",
   "execution_count": null,
   "id": "248e5649",
   "metadata": {},
   "outputs": [],
   "source": []
  }
 ],
 "metadata": {
  "kernelspec": {
   "display_name": "Python 3 (ipykernel)",
   "language": "python",
   "name": "python3"
  },
  "language_info": {
   "codemirror_mode": {
    "name": "ipython",
    "version": 3
   },
   "file_extension": ".py",
   "mimetype": "text/x-python",
   "name": "python",
   "nbconvert_exporter": "python",
   "pygments_lexer": "ipython3",
   "version": "3.8.8"
  }
 },
 "nbformat": 4,
 "nbformat_minor": 5
}
